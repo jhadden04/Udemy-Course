{
  "nbformat": 4,
  "nbformat_minor": 0,
  "metadata": {
    "colab": {
      "name": "reddit bots.ipynb",
      "provenance": []
    },
    "kernelspec": {
      "name": "python3",
      "display_name": "Python 3"
    },
    "language_info": {
      "name": "python"
    }
  },
  "cells": [
    {
      "cell_type": "code",
      "metadata": {
        "id": "BfwjfsW1vOzZ"
      },
      "source": [
        "# !pip install praw\n",
        "import praw\n",
        "import time\n",
        "!pip install yahoo_fin\n",
        "reddit = praw.Reddit(client_id='0_w-HYtscWovfg',\n",
        "                     client_secret='ZBUvGyUFWio8INkuHPL6Mrx06EIwOQ',\n",
        "                     user_agent='a reddit instance',\n",
        "                     username='TheBigBoyJohn123',\n",
        "                     password='Cl3o-the-C4t',\n",
        "                     check_for_async=False)\n"
      ],
      "execution_count": null,
      "outputs": []
    },
    {
      "cell_type": "code",
      "metadata": {
        "id": "rKFUw9UAN6jZ"
      },
      "source": [
        "# stream comments\n",
        "trigger_phrase = \"reddit bot\"\n",
        "for comment in reddit.subreddit('all').stream.comments():\n",
        "  if trigger_phrase in comment.body.lower():\n",
        "    print(comment.body)"
      ],
      "execution_count": null,
      "outputs": []
    },
    {
      "cell_type": "code",
      "metadata": {
        "id": "rR1rzuoFN6ls"
      },
      "source": [
        "# streams posts\n",
        "for submissions in reddit.subreddit('all').stream.submissions():\n",
        "  submissions.upvote() # you can change this to what you need\n",
        "  print(submissions.title)\n",
        "  time.sleep(15)"
      ],
      "execution_count": null,
      "outputs": []
    },
    {
      "cell_type": "code",
      "metadata": {
        "id": "V2AmW5C5N6on"
      },
      "source": [
        "# PM a user\n",
        "user = \"Alternative-Use-2277\"\n",
        "reddit.redditor(user).message(\"Hello\", \"I am John\")"
      ],
      "execution_count": null,
      "outputs": []
    },
    {
      "cell_type": "code",
      "metadata": {
        "id": "EP0WsJ9DQ-Dc"
      },
      "source": [
        "# post on a subreddit        \n",
        "subreddit = reddit.subreddit('Johntesting')\n",
        "subreddit.submit(\"Hello\", \"I am John\")"
      ],
      "execution_count": null,
      "outputs": []
    },
    {
      "cell_type": "code",
      "metadata": {
        "id": "-VW-A77JXQn1"
      },
      "source": [
        "# getting all the trending stocks\n",
        "import praw\n",
        "from heapq import nlargest\n",
        "import requests\n",
        "import bs4\n",
        "from yahoo_fin import stock_info as si\n",
        "\n",
        "# can easily scrape the price using\n",
        "\n",
        "def get_price(stock_ticker):\n",
        "    return (si.get_live_price(stock_ticker))\n",
        "\n",
        "\n",
        "numbers = [1, 2, 3, 4, 5, 6, 7, 8, 9, 0, \" \", \".\", \";\", \")\", \",\", \"$\", \"?\", \">\", \"<\", \"\\\"\", \"!\", \"+\", \"-\", \"*\"]\n",
        "phrase = \"$\"\n",
        "all_stocks = []\n",
        "rankings = {}\n",
        "stock_prices = {}\n",
        "while True:\n",
        "  for comment in reddit.subreddit('wallstreetbets+personalfinance+CryptoCurrency').stream.comments():\n",
        "      if phrase in comment.body:\n",
        "          index = comment.body.index(phrase)\n",
        "          ticker = \"\"\n",
        "          ticker += comment.body[index]\n",
        "          x = 1\n",
        "          try:\n",
        "\n",
        "              if comment.body[index + x] in str(numbers):\n",
        "                  continue\n",
        "          except:\n",
        "              continue\n",
        "          while True:\n",
        "              try:\n",
        "\n",
        "                  if comment.body[index + x] not in numbers:\n",
        "                      ticker += comment.body[index + x]\n",
        "                      x += 1\n",
        "\n",
        "                  else:\n",
        "                      break\n",
        "              except:\n",
        "                  break\n",
        "\n",
        "          ticker = ticker.upper()\n",
        "          if len(ticker) > 6:\n",
        "              continue\n",
        "          # if ticker != \"\":\n",
        "          #   print(ticker)\n",
        "\n",
        "          if ticker not in all_stocks:\n",
        "              all_stocks.append(ticker)\n",
        "              rankings[ticker] = 1\n",
        "\n",
        "          elif ticker in all_stocks:\n",
        "              rankings[ticker] += 1\n",
        "          # print(all_stocks)\n",
        "\n",
        "          largest = nlargest(5, rankings, key=rankings.get)\n",
        "\n",
        "          for i in range(len(largest) - 1):\n",
        "              a = largest[i]\n",
        "              no_dollar = a[1:]\n",
        "              try:\n",
        "                  stock_prices[largest[i]] = get_price(no_dollar)\n",
        "              except:\n",
        "                  continue\n",
        "          print(rankings)\n",
        "          print(largest)\n",
        "          print(stock_prices)\n",
        "          print(\"\\n\")"
      ],
      "execution_count": null,
      "outputs": []
    },
    {
      "cell_type": "code",
      "metadata": {
        "id": "u-5jc33EiU4R"
      },
      "source": [
        "# Doge/BTC sentiment analysis"
      ],
      "execution_count": null,
      "outputs": []
    },
    {
      "cell_type": "code",
      "metadata": {
        "id": "gdAHycVvZKNG"
      },
      "source": [
        "# PMing due to keywords\n",
        "# Can just cut out the keyword phrase, to message everyone in the subreddit\n",
        "def keyword():\n",
        "    trigger_phrase = [\"Fun toys\", \"Good things\"]  # you can expand this/change this\n",
        "    while True:\n",
        "        for comment in reddit.subreddit('AmongUs+gaming+MobileGaming+Shopping+Johntesting').stream.comments():\n",
        "            # check the trigger_phrase in each comment\n",
        "            n = 0\n",
        "            for i in range(len(trigger_phrase)):\n",
        "                n += 1\n",
        "                if trigger_phrase[n-1] in comment.body:\n",
        "                    # extract the word from the comment\n",
        "                    name = comment.author.name\n",
        "                    title = f'Hello, {name}'\n",
        "                    text = 'yes, good'\n",
        "                    try:\n",
        "                        reddit.redditor(name).message(title, text)\n",
        "                    except:\n",
        "                        continue\n",
        "                    print(f'u/{name}, Comment body: {comment.body}')\n",
        "                    time.sleep(5)\n",
        "                    continue\n",
        "keyword()"
      ],
      "execution_count": null,
      "outputs": []
    },
    {
      "cell_type": "code",
      "metadata": {
        "id": "24Bg9EEPZ89T"
      },
      "source": [
        "# gets lots of karma on freekarma subreddits\n",
        "# side affect, lots of people go to your profile and upvote your posts\n",
        "# so posts onto r/test once every 100ish mins\n",
        "\n",
        "def karma():\n",
        "    while True:\n",
        "        try:\n",
        "            for submission in reddit.subreddit(\"FreeKarma4U+FreeKarma4You\").stream.submissions():\n",
        "                submission.upvote()\n",
        "                print(submission.title)\n",
        "                submission.reply(\"Upvoted, upvote in return?\")\n",
        "                time.sleep(30)\n",
        "                if i % 200 == 0:\n",
        "                  subreddit = reddit.subreddit('test')\n",
        "                  subreddit.submit(\"Hello\", \"Upvotes Please\")\n",
        "\n",
        "        except:\n",
        "            time.sleep(300)\n",
        "            karma()\n",
        "karma()"
      ],
      "execution_count": null,
      "outputs": []
    },
    {
      "cell_type": "code",
      "metadata": {
        "id": "ytXxTMqrkSOw"
      },
      "source": [
        "# Telegram bot that notifies you when you have mentions"
      ],
      "execution_count": null,
      "outputs": []
    },
    {
      "cell_type": "code",
      "metadata": {
        "id": "3WWCp3yujYrS"
      },
      "source": [
        "# Try and give general marketing advice. \n",
        "# Do an AMA on your brand\n",
        "# Participate in relevant subreddits\n",
        "# Run a bot that searches to see if your brand has been mentioned, and then you can follow up personally\n",
        "# target your niche, by targeting certain subreddits\n",
        "# try to connect with your demographic\n",
        "# The end goal is to get to the front page\n",
        "# Redditors hate reddit marketing\n",
        "# explore reddit ads/promoted posts\n",
        "# start a subreddit for your brand\n",
        "\n",
        "# https://www.evernote.com/shard/s642/client/snv?noteGuid=5ddfd646-44a1-4809-883e-45d59b9afa0f&noteKey=311a7fc2865ecddbfac52bcb11c5d924&sn=https%3A%2F%2Fwww.evernote.com%2Fshard%2Fs642%2Fsh%2F5ddfd646-44a1-4809-883e-45d59b9afa0f%2F311a7fc2865ecddbfac52bcb11c5d924&title=%255BList%255D%2B100%252B%2BSubreddits%2Bfor%2BMaking%2BMoney"
      ],
      "execution_count": null,
      "outputs": []
    },
    {
      "cell_type": "code",
      "metadata": {
        "id": "oHyaR-jQbzvE"
      },
      "source": [
        "# moderation\n",
        "\n",
        "subreddit = reddit.subreddit('Johntesting').new()\n",
        "\n",
        "def hasflair():\n",
        "    while True:\n",
        "        for sub in subreddit:\n",
        "            if sub.link_flair_text:\n",
        "                print(sub.link_flair_text)\n",
        "\n",
        "            else:\n",
        "                print(\"No flair\")\n",
        "                sub.remove()  # this should delete the post\n",
        "                poster = sub.author\n",
        "                reddit.redditor(str(poster)).message(\"Your post was removed from r/Johntesting\",\n",
        "                                                     \"You Didn't have a flair\")\n",
        "                time.sleep(30)\n",
        "\n",
        "def postedtoday():\n",
        "    postername = []\n",
        "    while True:\n",
        "        for sub in subreddit:\n",
        "            poster = sub.author\n",
        "\n",
        "            if sub.link_flair_text == 'awesome dude':\n",
        "                print('awesome dude')\n",
        "\n",
        "            elif sub.author in postername:\n",
        "                sub.remove()\n",
        "                print(\"they posted twice in a day\")\n",
        "                reddit.redditor(str(poster)).message(\"Your post was removed from r/Johntesting\",\n",
        "                                                     \"You posted more than once a day, and don't have the \\\"awesome \"\n",
        "                                                     \"dude\\\" flair\") \n",
        "                time.sleep(10)\n",
        "\n",
        "            else:\n",
        "                postername.append(sub.author)\n",
        "                print(\"They have posted once\")\n",
        "\n",
        "\n",
        "hasflair()\n",
        "postedtoday()"
      ],
      "execution_count": null,
      "outputs": []
    },
    {
      "cell_type": "code",
      "metadata": {
        "id": "tfVm4PyKtlfP"
      },
      "source": [
        "# makes a bot that can respond to username calling\n",
        "\n",
        "all_mentions = []\n",
        "trigger_phrase = \"do something\"\n",
        "while True:\n",
        "  time.sleep(15)\n",
        "  for mention in reddit.inbox.mentions(limit=None):\n",
        "      if mention not in all_mentions and trigger_phrase in mention.body:          \n",
        "        all_mentions.append(mention)\n",
        "        comment_id = reddit.comment(id=mention)\n",
        "        comment.reply(\"*does something*\")\n",
        "        print(mention.body)\n",
        "        time.sleep(5)\n",
        "      else:\n",
        "        time.sleep(5)\n",
        "        continue"
      ],
      "execution_count": null,
      "outputs": []
    },
    {
      "cell_type": "code",
      "metadata": {
        "id": "QCsl5ESGg5K2"
      },
      "source": [
        "# Fun Fact bot, from https://www.beagreatteacher.com/fun-facts-may-19-2021/ etc\n",
        "# called by username"
      ],
      "execution_count": null,
      "outputs": []
    }
  ]
}